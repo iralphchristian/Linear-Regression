{
 "cells": [
  {
   "cell_type": "code",
   "execution_count": 1,
   "id": "7e6268d9",
   "metadata": {},
   "outputs": [],
   "source": [
    "import pandas as pd\n",
    "import numpy as np\n",
    "import matplotlib.pyplot as plt\n",
    "from sklearn.model_selection import train_test_split\n",
    "from sklearn.linear_model import LinearRegression\n",
    "from sklearn import metrics"
   ]
  },
  {
   "cell_type": "code",
   "execution_count": 17,
   "id": "ea87eb29",
   "metadata": {},
   "outputs": [
    {
     "data": {
      "text/html": [
       "<div>\n",
       "<style scoped>\n",
       "    .dataframe tbody tr th:only-of-type {\n",
       "        vertical-align: middle;\n",
       "    }\n",
       "\n",
       "    .dataframe tbody tr th {\n",
       "        vertical-align: top;\n",
       "    }\n",
       "\n",
       "    .dataframe thead th {\n",
       "        text-align: right;\n",
       "    }\n",
       "</style>\n",
       "<table border=\"1\" class=\"dataframe\">\n",
       "  <thead>\n",
       "    <tr style=\"text-align: right;\">\n",
       "      <th></th>\n",
       "      <th>Date</th>\n",
       "      <th>Open</th>\n",
       "      <th>High</th>\n",
       "      <th>Low</th>\n",
       "      <th>Close</th>\n",
       "      <th>Adj Close</th>\n",
       "      <th>Volume</th>\n",
       "    </tr>\n",
       "  </thead>\n",
       "  <tbody>\n",
       "    <tr>\n",
       "      <th>0</th>\n",
       "      <td>2018-02-05</td>\n",
       "      <td>262.000000</td>\n",
       "      <td>267.899994</td>\n",
       "      <td>250.029999</td>\n",
       "      <td>254.259995</td>\n",
       "      <td>254.259995</td>\n",
       "      <td>11896100</td>\n",
       "    </tr>\n",
       "    <tr>\n",
       "      <th>1</th>\n",
       "      <td>2018-02-06</td>\n",
       "      <td>247.699997</td>\n",
       "      <td>266.700012</td>\n",
       "      <td>245.000000</td>\n",
       "      <td>265.720001</td>\n",
       "      <td>265.720001</td>\n",
       "      <td>12595800</td>\n",
       "    </tr>\n",
       "    <tr>\n",
       "      <th>2</th>\n",
       "      <td>2018-02-07</td>\n",
       "      <td>266.579987</td>\n",
       "      <td>272.450012</td>\n",
       "      <td>264.329987</td>\n",
       "      <td>264.559998</td>\n",
       "      <td>264.559998</td>\n",
       "      <td>8981500</td>\n",
       "    </tr>\n",
       "    <tr>\n",
       "      <th>3</th>\n",
       "      <td>2018-02-08</td>\n",
       "      <td>267.079987</td>\n",
       "      <td>267.619995</td>\n",
       "      <td>250.000000</td>\n",
       "      <td>250.100006</td>\n",
       "      <td>250.100006</td>\n",
       "      <td>9306700</td>\n",
       "    </tr>\n",
       "    <tr>\n",
       "      <th>4</th>\n",
       "      <td>2018-02-09</td>\n",
       "      <td>253.850006</td>\n",
       "      <td>255.800003</td>\n",
       "      <td>236.110001</td>\n",
       "      <td>249.470001</td>\n",
       "      <td>249.470001</td>\n",
       "      <td>16906900</td>\n",
       "    </tr>\n",
       "  </tbody>\n",
       "</table>\n",
       "</div>"
      ],
      "text/plain": [
       "         Date        Open        High         Low       Close   Adj Close  \\\n",
       "0  2018-02-05  262.000000  267.899994  250.029999  254.259995  254.259995   \n",
       "1  2018-02-06  247.699997  266.700012  245.000000  265.720001  265.720001   \n",
       "2  2018-02-07  266.579987  272.450012  264.329987  264.559998  264.559998   \n",
       "3  2018-02-08  267.079987  267.619995  250.000000  250.100006  250.100006   \n",
       "4  2018-02-09  253.850006  255.800003  236.110001  249.470001  249.470001   \n",
       "\n",
       "     Volume  \n",
       "0  11896100  \n",
       "1  12595800  \n",
       "2   8981500  \n",
       "3   9306700  \n",
       "4  16906900  "
      ]
     },
     "execution_count": 17,
     "metadata": {},
     "output_type": "execute_result"
    }
   ],
   "source": [
    "df=pd.read_csv('data/NFLX.csv')\n",
    "df.head()"
   ]
  },
  {
   "cell_type": "code",
   "execution_count": 18,
   "id": "dd6022f0",
   "metadata": {},
   "outputs": [
    {
     "data": {
      "text/html": [
       "<div>\n",
       "<style scoped>\n",
       "    .dataframe tbody tr th:only-of-type {\n",
       "        vertical-align: middle;\n",
       "    }\n",
       "\n",
       "    .dataframe tbody tr th {\n",
       "        vertical-align: top;\n",
       "    }\n",
       "\n",
       "    .dataframe thead th {\n",
       "        text-align: right;\n",
       "    }\n",
       "</style>\n",
       "<table border=\"1\" class=\"dataframe\">\n",
       "  <thead>\n",
       "    <tr style=\"text-align: right;\">\n",
       "      <th></th>\n",
       "      <th>Date</th>\n",
       "      <th>Open</th>\n",
       "      <th>High</th>\n",
       "      <th>Low</th>\n",
       "      <th>Close</th>\n",
       "      <th>Adj Close</th>\n",
       "      <th>Volume</th>\n",
       "    </tr>\n",
       "  </thead>\n",
       "  <tbody>\n",
       "    <tr>\n",
       "      <th>0</th>\n",
       "      <td>2018-02-05</td>\n",
       "      <td>262.000000</td>\n",
       "      <td>267.899994</td>\n",
       "      <td>250.029999</td>\n",
       "      <td>254.259995</td>\n",
       "      <td>254.259995</td>\n",
       "      <td>11896100</td>\n",
       "    </tr>\n",
       "    <tr>\n",
       "      <th>1</th>\n",
       "      <td>2018-02-06</td>\n",
       "      <td>247.699997</td>\n",
       "      <td>266.700012</td>\n",
       "      <td>245.000000</td>\n",
       "      <td>265.720001</td>\n",
       "      <td>265.720001</td>\n",
       "      <td>12595800</td>\n",
       "    </tr>\n",
       "    <tr>\n",
       "      <th>2</th>\n",
       "      <td>2018-02-07</td>\n",
       "      <td>266.579987</td>\n",
       "      <td>272.450012</td>\n",
       "      <td>264.329987</td>\n",
       "      <td>264.559998</td>\n",
       "      <td>264.559998</td>\n",
       "      <td>8981500</td>\n",
       "    </tr>\n",
       "    <tr>\n",
       "      <th>3</th>\n",
       "      <td>2018-02-08</td>\n",
       "      <td>267.079987</td>\n",
       "      <td>267.619995</td>\n",
       "      <td>250.000000</td>\n",
       "      <td>250.100006</td>\n",
       "      <td>250.100006</td>\n",
       "      <td>9306700</td>\n",
       "    </tr>\n",
       "    <tr>\n",
       "      <th>4</th>\n",
       "      <td>2018-02-09</td>\n",
       "      <td>253.850006</td>\n",
       "      <td>255.800003</td>\n",
       "      <td>236.110001</td>\n",
       "      <td>249.470001</td>\n",
       "      <td>249.470001</td>\n",
       "      <td>16906900</td>\n",
       "    </tr>\n",
       "  </tbody>\n",
       "</table>\n",
       "</div>"
      ],
      "text/plain": [
       "        Date        Open        High         Low       Close   Adj Close  \\\n",
       "0 2018-02-05  262.000000  267.899994  250.029999  254.259995  254.259995   \n",
       "1 2018-02-06  247.699997  266.700012  245.000000  265.720001  265.720001   \n",
       "2 2018-02-07  266.579987  272.450012  264.329987  264.559998  264.559998   \n",
       "3 2018-02-08  267.079987  267.619995  250.000000  250.100006  250.100006   \n",
       "4 2018-02-09  253.850006  255.800003  236.110001  249.470001  249.470001   \n",
       "\n",
       "     Volume  \n",
       "0  11896100  \n",
       "1  12595800  \n",
       "2   8981500  \n",
       "3   9306700  \n",
       "4  16906900  "
      ]
     },
     "execution_count": 18,
     "metadata": {},
     "output_type": "execute_result"
    }
   ],
   "source": [
    "# df.describe()\n",
    "df['Date']=pd.to_datetime(df['Date'],format='%Y-%m-%d')\n",
    "df.head()"
   ]
  },
  {
   "cell_type": "code",
   "execution_count": 19,
   "id": "50e7750e",
   "metadata": {},
   "outputs": [],
   "source": [
    "data = pd.DataFrame(df[['Date','Close']])\n",
    "data=data.reset_index()\n",
    "data=data.drop('index',axis=1)\n",
    "data.set_index('Date', inplace=True)\n",
    "data = data.asfreq('D')"
   ]
  },
  {
   "cell_type": "code",
   "execution_count": 20,
   "id": "1b3e2027",
   "metadata": {},
   "outputs": [
    {
     "data": {
      "text/html": [
       "<div>\n",
       "<style scoped>\n",
       "    .dataframe tbody tr th:only-of-type {\n",
       "        vertical-align: middle;\n",
       "    }\n",
       "\n",
       "    .dataframe tbody tr th {\n",
       "        vertical-align: top;\n",
       "    }\n",
       "\n",
       "    .dataframe thead th {\n",
       "        text-align: right;\n",
       "    }\n",
       "</style>\n",
       "<table border=\"1\" class=\"dataframe\">\n",
       "  <thead>\n",
       "    <tr style=\"text-align: right;\">\n",
       "      <th></th>\n",
       "      <th>Close</th>\n",
       "    </tr>\n",
       "    <tr>\n",
       "      <th>Date</th>\n",
       "      <th></th>\n",
       "    </tr>\n",
       "  </thead>\n",
       "  <tbody>\n",
       "    <tr>\n",
       "      <th>2018-02-05</th>\n",
       "      <td>254.259995</td>\n",
       "    </tr>\n",
       "    <tr>\n",
       "      <th>2018-02-06</th>\n",
       "      <td>265.720001</td>\n",
       "    </tr>\n",
       "    <tr>\n",
       "      <th>2018-02-07</th>\n",
       "      <td>264.559998</td>\n",
       "    </tr>\n",
       "    <tr>\n",
       "      <th>2018-02-08</th>\n",
       "      <td>250.100006</td>\n",
       "    </tr>\n",
       "    <tr>\n",
       "      <th>2018-02-09</th>\n",
       "      <td>249.470001</td>\n",
       "    </tr>\n",
       "  </tbody>\n",
       "</table>\n",
       "</div>"
      ],
      "text/plain": [
       "                 Close\n",
       "Date                  \n",
       "2018-02-05  254.259995\n",
       "2018-02-06  265.720001\n",
       "2018-02-07  264.559998\n",
       "2018-02-08  250.100006\n",
       "2018-02-09  249.470001"
      ]
     },
     "execution_count": 20,
     "metadata": {},
     "output_type": "execute_result"
    }
   ],
   "source": [
    "data.head()"
   ]
  },
  {
   "cell_type": "code",
   "execution_count": 21,
   "id": "2f0e6d11",
   "metadata": {},
   "outputs": [
    {
     "data": {
      "text/plain": [
       "<AxesSubplot:xlabel='Date'>"
      ]
     },
     "execution_count": 21,
     "metadata": {},
     "output_type": "execute_result"
    },
    {
     "data": {
      "image/png": "[encoded data removed]",
      "text/plain": [
       "<Figure size 1080x576 with 1 Axes>"
      ]
     },
     "metadata": {
      "needs_background": "light"
     },
     "output_type": "display_data"
    }
   ],
   "source": [
    "data.plot(figsize=(15,8))"
   ]
  },
  {
   "cell_type": "code",
   "execution_count": 22,
   "id": "97e5eac8",
   "metadata": {},
   "outputs": [
    {
     "data": {
      "text/plain": [
       "0         0 days\n",
       "1         1 days\n",
       "2         2 days\n",
       "3         3 days\n",
       "4         4 days\n",
       "          ...   \n",
       "1004   1456 days\n",
       "1005   1457 days\n",
       "1006   1458 days\n",
       "1007   1459 days\n",
       "1008   1460 days\n",
       "Name: Date, Length: 1009, dtype: timedelta64[ns]"
      ]
     },
     "execution_count": 22,
     "metadata": {},
     "output_type": "execute_result"
    }
   ],
   "source": [
    "# days = df['Date'] - df['Date'][0]\n",
    "# days"
   ]
  },
  {
   "cell_type": "code",
   "execution_count": 45,
   "id": "6bd64d2e",
   "metadata": {},
   "outputs": [],
   "source": [
    "x = df[['High', 'Low', 'Open', 'Volume']].values\n",
    "y = df['Close'].values\n",
    "date = df['Date']\n",
    "# x = df[['Date']].values\n",
    "# y = df['Close'].values"
   ]
  },
  {
   "cell_type": "code",
   "execution_count": 32,
   "id": "913a7a10",
   "metadata": {},
   "outputs": [],
   "source": [
    "x_train, x_test, y_train, y_test = train_test_split(x,y, test_size=0.2, random_state=1)"
   ]
  },
  {
   "cell_type": "code",
   "execution_count": 33,
   "id": "5778e0d8",
   "metadata": {},
   "outputs": [],
   "source": [
    "regressor = LinearRegression()"
   ]
  },
  {
   "cell_type": "code",
   "execution_count": 34,
   "id": "137c1a83",
   "metadata": {},
   "outputs": [
    {
     "data": {
      "text/plain": [
       "LinearRegression()"
      ]
     },
     "execution_count": 34,
     "metadata": {},
     "output_type": "execute_result"
    }
   ],
   "source": [
    "regressor.fit(x_train, y_train)"
   ]
  },
  {
   "cell_type": "code",
   "execution_count": 35,
   "id": "9232d438",
   "metadata": {},
   "outputs": [
    {
     "name": "stdout",
     "output_type": "stream",
     "text": [
      "[ 8.22540803e-01  8.06769922e-01 -6.29437341e-01  3.64187592e-08]\n"
     ]
    }
   ],
   "source": [
    "print(regressor.coef_)"
   ]
  },
  {
   "cell_type": "code",
   "execution_count": 36,
   "id": "625f2c25",
   "metadata": {},
   "outputs": [
    {
     "name": "stdout",
     "output_type": "stream",
     "text": [
      "-0.01921697611237505\n"
     ]
    }
   ],
   "source": [
    "print(regressor.intercept_)"
   ]
  },
  {
   "cell_type": "code",
   "execution_count": 37,
   "id": "7d380ef3",
   "metadata": {},
   "outputs": [],
   "source": [
    "predicted = regressor.predict(x_test)"
   ]
  },
  {
   "cell_type": "code",
   "execution_count": 38,
   "id": "af91273b",
   "metadata": {},
   "outputs": [
    {
     "name": "stdout",
     "output_type": "stream",
     "text": [
      "[585.61410514 634.66483717 366.23294004 431.90706619 415.38934046\n",
      " 343.83608796 500.83250921 531.65615338 347.73560515 333.45049424\n",
      " 481.62627318 364.24398933 656.71374556 349.55011463 357.64776388\n",
      " 325.09459016 396.14132607 258.78719331 266.62324451 541.89980888\n",
      " 598.23896295 340.55325857 271.32159592 319.44650289 295.71874583\n",
      " 363.16725663 417.95947688 541.41497181 502.34309399 501.92008136\n",
      " 605.50242908 525.03918568 531.79032138 372.68308839 356.28441958\n",
      " 273.46624657 351.70944911 537.90747151 357.54994981 668.38086084\n",
      " 423.19778857 364.19335958 392.76142043 394.24692766 414.75474426\n",
      " 503.47504251 447.39124931 295.16582967 378.41856934 551.85901733\n",
      " 283.9919743  313.39944554 330.64363044 302.64215211 350.49610783\n",
      " 298.17370444 515.18957786 484.99524675 610.33906494 488.54399\n",
      " 379.83787371 487.11588113 306.94528568 501.37748904 473.31311344\n",
      " 524.10183381 679.82964235 492.6089632  534.43689106 287.98822253\n",
      " 284.04500799 341.99954937 338.1741829  453.88690019 325.93680335\n",
      " 330.50089038 420.85239737 370.55290631 292.63011623 311.91358453\n",
      " 624.03662226 546.06880688 584.25871601 242.70049552 285.15794293\n",
      " 325.58772542 356.79067648 488.27169684 603.01640874 365.73844577\n",
      " 473.72244559 663.16124017 548.55092294 331.39099457 558.67530193\n",
      " 516.41406538 485.22866773 541.73414707 425.08958746 366.64013294\n",
      " 416.7810706  282.75023302 287.07948618 328.32938758 496.05791247\n",
      " 282.16501936 490.2968182  320.17294366 490.45188475 513.92040391\n",
      " 628.79610611 367.78178707 362.01434398 310.12683403 517.14248775\n",
      " 309.68581547 313.8186851  514.83164934 354.97073363 316.05470402\n",
      " 667.14040059 553.26598717 254.03045095 294.82935438 265.18683272\n",
      " 345.61444812 484.06739772 305.97342839 521.26511352 519.65308895\n",
      " 419.97179266 372.72210144 486.01743127 269.8672148  512.84109671\n",
      " 448.71195679 525.92415286 361.59600155 502.15725933 663.16762608\n",
      " 329.87612135 357.73290787 298.43967462 329.14399653 397.51620375\n",
      " 255.63243792 290.82501511 639.44026513 545.89569143 273.09940833\n",
      " 492.34568492 364.80921535 277.04420713 367.99979646 312.16653014\n",
      " 356.42172068 560.07277285 356.33729232 486.4340596  365.96777466\n",
      " 484.57316153 366.87016078 510.95850391 340.62071921 611.26238473\n",
      " 651.46345145 515.01788532 300.48099557 334.01398605 553.70950075\n",
      " 662.63054019 346.46539291 358.24554007 353.73372298 311.84575059\n",
      " 434.37308219 265.10881572 655.22198453 266.08702071 537.12400585\n",
      " 274.60146516 560.07703434 334.52447827 363.65131477 669.55219676\n",
      " 358.68836788 460.04887618 269.30852016 498.8918008  302.53700132\n",
      " 292.61881348 509.59136125 508.96815962 331.45822126 548.5806149\n",
      " 348.3086789  434.7421893  519.55315719 525.767581   596.21586689\n",
      " 482.43235734 438.38100471]\n"
     ]
    }
   ],
   "source": [
    "print(predicted)"
   ]
  },
  {
   "cell_type": "code",
   "execution_count": 39,
   "id": "9b43b711",
   "metadata": {},
   "outputs": [],
   "source": [
    "df2 = pd.DataFrame({'Actual': y_test.flatten(), 'Predicted' : predicted.flatten()})"
   ]
  },
  {
   "cell_type": "code",
   "execution_count": 40,
   "id": "be7f9027",
   "metadata": {},
   "outputs": [
    {
     "data": {
      "text/html": [
       "<div>\n",
       "<style scoped>\n",
       "    .dataframe tbody tr th:only-of-type {\n",
       "        vertical-align: middle;\n",
       "    }\n",
       "\n",
       "    .dataframe tbody tr th {\n",
       "        vertical-align: top;\n",
       "    }\n",
       "\n",
       "    .dataframe thead th {\n",
       "        text-align: right;\n",
       "    }\n",
       "</style>\n",
       "<table border=\"1\" class=\"dataframe\">\n",
       "  <thead>\n",
       "    <tr style=\"text-align: right;\">\n",
       "      <th></th>\n",
       "      <th>Actual</th>\n",
       "      <th>Predicted</th>\n",
       "    </tr>\n",
       "  </thead>\n",
       "  <tbody>\n",
       "    <tr>\n",
       "      <th>0</th>\n",
       "      <td>591.150024</td>\n",
       "      <td>585.614105</td>\n",
       "    </tr>\n",
       "    <tr>\n",
       "      <th>1</th>\n",
       "      <td>634.809998</td>\n",
       "      <td>634.664837</td>\n",
       "    </tr>\n",
       "    <tr>\n",
       "      <th>2</th>\n",
       "      <td>365.489990</td>\n",
       "      <td>366.232940</td>\n",
       "    </tr>\n",
       "    <tr>\n",
       "      <th>3</th>\n",
       "      <td>433.829987</td>\n",
       "      <td>431.907066</td>\n",
       "    </tr>\n",
       "    <tr>\n",
       "      <th>4</th>\n",
       "      <td>419.730011</td>\n",
       "      <td>415.389340</td>\n",
       "    </tr>\n",
       "  </tbody>\n",
       "</table>\n",
       "</div>"
      ],
      "text/plain": [
       "       Actual   Predicted\n",
       "0  591.150024  585.614105\n",
       "1  634.809998  634.664837\n",
       "2  365.489990  366.232940\n",
       "3  433.829987  431.907066\n",
       "4  419.730011  415.389340"
      ]
     },
     "execution_count": 40,
     "metadata": {},
     "output_type": "execute_result"
    }
   ],
   "source": [
    "df2.head()"
   ]
  },
  {
   "cell_type": "code",
   "execution_count": null,
   "id": "0ff5b2ac",
   "metadata": {},
   "outputs": [],
   "source": [
    "# import math\n",
    "# print('Mean Absolute Error:', metrics.mean_absolute_error(y_test,predicted))\n",
    "# print('Mean Squared Error:', metrics.mean_squared_error(y_test,predicted))\n",
    "# print('Root Mean Squared Error:', math.sqrt(metrics.mean_squared_error(y_test,predicted)))"
   ]
  },
  {
   "cell_type": "code",
   "execution_count": 41,
   "id": "68ff7b78",
   "metadata": {},
   "outputs": [],
   "source": [
    "graph = df2.head(20)"
   ]
  },
  {
   "cell_type": "code",
   "execution_count": 42,
   "id": "bd615b87",
   "metadata": {},
   "outputs": [
    {
     "data": {
      "text/plain": [
       "<AxesSubplot:>"
      ]
     },
     "execution_count": 42,
     "metadata": {},
     "output_type": "execute_result"
    },
    {
     "data": {
      "image/png": "[encoded data removed]",
      "text/plain": [
       "<Figure size 432x288 with 1 Axes>"
      ]
     },
     "metadata": {
      "needs_background": "light"
     },
     "output_type": "display_data"
    }
   ],
   "source": [
    "graph.plot(kind='bar')"
   ]
  },
  {
   "cell_type": "code",
   "execution_count": null,
   "id": "71b58674",
   "metadata": {},
   "outputs": [],
   "source": []
  }
 ],
 "metadata": {
  "kernelspec": {
   "display_name": "Python 3 (ipykernel)",
   "language": "python",
   "name": "python3"
  },
  "language_info": {
   "codemirror_mode": {
    "name": "ipython",
    "version": 3
   },
   "file_extension": ".py",
   "mimetype": "text/x-python",
   "name": "python",
   "nbconvert_exporter": "python",
   "pygments_lexer": "ipython3",
   "version": "3.9.7"
  }
 },
 "nbformat": 4,
 "nbformat_minor": 5
}
